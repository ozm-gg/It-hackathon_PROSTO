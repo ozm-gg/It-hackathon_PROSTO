{
 "cells": [
  {
   "cell_type": "code",
   "execution_count": 4,
   "id": "2c0ce7aa-d1c3-47ab-8699-211b5f080f2c",
   "metadata": {},
   "outputs": [
    {
     "name": "stdout",
     "output_type": "stream",
     "text": [
      "Начало обработки ChEMBL...\n"
     ]
    },
    {
     "name": "stderr",
     "output_type": "stream",
     "text": [
      "  0%|                                                                          | 2383/2474590 [00:02<46:22, 888.44it/s][08:51:57] Can't kekulize mol.  Unkekulized atoms: 30 31 32 33 34 35 36 37 38 39 40 41 42 43 44 45 46 47 48 49 50 51 52 53 54 55 56 57 58 59 60 61 62 63 64 65 66 67 68 69 70 71 72 73 74 75 76 77\n",
      "  2%|█▏                                                                      | 41208/2474590 [00:24<22:46, 1780.94it/s][08:52:19] Explicit valence for atom # 13 P, 7, is greater than permitted\n",
      "  2%|█▌                                                                      | 52433/2474590 [00:30<21:39, 1864.10it/s][08:52:25] Explicit valence for atom # 29 P, 7, is greater than permitted\n",
      "  2%|█▌                                                                      | 54878/2474590 [00:31<21:49, 1847.44it/s][08:52:26] Explicit valence for atom # 91 P, 7, is greater than permitted\n",
      " 16%|███████████▏                                                           | 391234/2474590 [03:55<22:59, 1510.40it/s][08:55:50] Can't kekulize mol.  Unkekulized atoms: 30 31 32 33 34 35 36 37 38 39 40 41 42 43 44 45 46 47 48 49 50 51 52 53 54 55 56 57 58 59 60 61 62 63 64 65 66 67 68 69 70 71 72 73 74 75 76 77\n",
      " 31%|█████████████████████▉                                                 | 763201/2474590 [07:57<19:18, 1477.57it/s][08:59:52] WARNING: not removing hydrogen atom without neighbors\n",
      " 37%|██████████████████████████▏                                            | 912561/2474590 [09:31<17:16, 1506.51it/s][09:01:26] Can't kekulize mol.  Unkekulized atoms: 14 15 16 17 18 19 20 21 22 23 24 25 26 27 28 29 30 31 32 33 34 35 36 37 38 39 40 41 42 43 44 45 46 47 48 49 50 51 52 53 54 55 56 57 58 59 60 61\n",
      " 37%|██████████████████████████▎                                            | 918353/2474590 [09:35<18:54, 1372.04it/s][09:01:31] Can't kekulize mol.  Unkekulized atoms: 18 19 20 21 22 23 24 25 26 27 28 29 30 31 32 33 34 35 36 37 38 39 40 41 42 43 44 45 46 47 48 49 50 51 52 53 54 55 56 57 58 59 60 61 62 63 64 65\n",
      " 38%|██████████████████████████▊                                            | 933739/2474590 [09:50<19:37, 1309.02it/s][09:01:46] Can't kekulize mol.  Unkekulized atoms: 15 16 17 18 19 20 21 22 23 24 25 26 27 28 29 30 31 32 33 34 35 36 37 38 39 40 41 42 43 44 45 46 47 48 49 50 51 52 53 54 55 56 57 58 59 60 61 62\n",
      " 39%|███████████████████████████▍                                           | 957550/2474590 [10:08<23:32, 1074.30it/s][09:02:03] Explicit valence for atom # 17 P, 7, is greater than permitted\n",
      " 39%|███████████████████████████▍                                           | 957662/2474590 [10:08<23:17, 1085.79it/s][09:02:03] Explicit valence for atom # 1 P, 7, is greater than permitted\n",
      " 39%|███████████████████████████▌                                           | 959408/2474590 [10:10<19:44, 1279.34it/s][09:02:05] Explicit valence for atom # 1 P, 7, is greater than permitted\n",
      " 39%|███████████████████████████▊                                           | 968867/2474590 [10:17<19:40, 1275.97it/s][09:02:12] Explicit valence for atom # 1 P, 7, is greater than permitted\n",
      " 41%|████████████████████████████▋                                         | 1012983/2474590 [10:45<13:06, 1857.42it/s][09:02:40] WARNING: not removing hydrogen atom without neighbors\n",
      "[09:02:40] WARNING: not removing hydrogen atom without neighbors\n",
      " 41%|█████████████████████████████                                         | 1026438/2474590 [10:52<14:25, 1672.70it/s][09:02:47] Can't kekulize mol.  Unkekulized atoms: 16 17 18 19 20 21 22 23 24 25 26 27 28 29 30 31 32 33 34 35 36 37 38 39 40 41 42 43 44 45 46 47 48 49 50 51 52 53 54 55 56 57 58 59 60 61 62 63\n",
      " 49%|██████████████████████████████████▎                                   | 1211576/2474590 [12:30<15:02, 1399.63it/s][09:04:25] Explicit valence for atom # 19 P, 7, is greater than permitted\n",
      " 49%|██████████████████████████████████▎                                   | 1212438/2474590 [12:31<14:39, 1434.75it/s][09:04:26] Explicit valence for atom # 1 P, 7, is greater than permitted\n",
      " 49%|██████████████████████████████████▍                                   | 1218137/2474590 [12:35<13:24, 1562.49it/s][09:04:30] Explicit valence for atom # 16 P, 7, is greater than permitted\n",
      " 62%|███████████████████████████████████████████▌                          | 1541451/2474590 [15:44<08:45, 1774.14it/s][09:07:39] Can't kekulize mol.  Unkekulized atoms: 15 16 17 18 19 20 21 22 23 24 25 26 27 28 29 30 31 32 33 34 35 36 37 38 39 40 41 42 43 44 45 46 47 48 49 50 51 52 53 54 55 56 57 58 59 60 61 62\n",
      " 69%|████████████████████████████████████████████████▍                     | 1711322/2474590 [17:25<07:54, 1609.72it/s][09:09:20] WARNING: not removing hydrogen atom without neighbors\n",
      " 79%|██████████████████████████████████████████████████████▉               | 1942901/2474590 [19:58<06:45, 1310.16it/s][09:11:53] WARNING: not removing hydrogen atom without neighbors\n",
      " 80%|███████████████████████████████████████████████████████▋              | 1967445/2474590 [20:13<04:34, 1850.60it/s][09:12:08] WARNING: not removing hydrogen atom without neighbors\n",
      " 80%|████████████████████████████████████████████████████████▎             | 1988851/2474590 [20:25<04:07, 1961.45it/s][09:12:20] WARNING: not removing hydrogen atom without neighbors\n",
      " 95%|██████████████████████████████████████████████████████████████████▍   | 2346504/2474590 [24:15<01:29, 1434.52it/s][09:16:10] WARNING: not removing hydrogen atom without neighbors\n",
      "[09:16:10] WARNING: not removing hydrogen atom without neighbors\n",
      "[09:16:10] WARNING: not removing hydrogen atom without neighbors\n",
      " 96%|███████████████████████████████████████████████████████████████████▏  | 2376620/2474590 [24:36<01:05, 1488.36it/s][09:16:32] Can't kekulize mol.  Unkekulized atoms: 1 2 3 4 5 6 10 11 15 16 17 19 20 21\n",
      "100%|█████████████████████████████████████████████████████████████████████▉| 2474136/2474590 [25:45<00:00, 1336.99it/s][09:17:40] Explicit valence for atom # 1 As, 7, is greater than permitted\n",
      "100%|█████████████████████████████████████████████████████████████████████▉| 2474441/2474590 [25:45<00:00, 1430.66it/s][09:17:41] WARNING: not removing hydrogen atom without neighbors\n",
      "[09:17:41] WARNING: not removing hydrogen atom without neighbors\n",
      "[09:17:41] WARNING: not removing hydrogen atom without neighbors\n",
      "[09:17:41] WARNING: not removing hydrogen atom without neighbors\n",
      "[09:17:41] Explicit valence for atom # 1 P, 7, is greater than permitted\n",
      "[09:17:41] Explicit valence for atom # 34 P, 7, is greater than permitted\n",
      "100%|██████████████████████████████████████████████████████████████████████| 2474590/2474590 [25:46<00:00, 1600.61it/s]\n"
     ]
    },
    {
     "name": "stdout",
     "output_type": "stream",
     "text": [
      "Сохранено 2474569 фингерпринтов в chembl_fps.pkl\n"
     ]
    }
   ],
   "source": [
    "import gzip\n",
    "import pickle\n",
    "import numpy as np\n",
    "import pandas as pd\n",
    "from rdkit import Chem, DataStructs\n",
    "from rdkit.Chem import rdFingerprintGenerator\n",
    "from tqdm.auto import tqdm\n",
    "from pathlib import Path\n",
    "import os\n",
    "\n",
    "CHEMBL_PATH = 'chembl_35_chemreps.txt.gz'\n",
    "FP_CACHE = 'chembl_fps.pkl'\n",
    "FP_RADIUS = 3\n",
    "FP_SIZE = 2048\n",
    "\n",
    "chembl_smiles = []\n",
    "chembl_fps = []\n",
    "\n",
    "def process_and_save():\n",
    "    \"\"\"Однократный препроцессинг данных\"\"\"\n",
    "    if Path(FP_CACHE).exists():\n",
    "        print(\"Файл с фингерпринтами уже существует!\")\n",
    "        return\n",
    "\n",
    "    print(\"Начало обработки ChEMBL...\")\n",
    "    mfpgen = rdFingerprintGenerator.GetMorganGenerator(radius=3, fpSize=2048)\n",
    "    \n",
    "    fps = []\n",
    "    smiles = []\n",
    "    \n",
    "    with gzip.open(CHEMBL_PATH, 'rt') as f:\n",
    "        df = pd.read_csv(f, sep='\\t', usecols=['canonical_smiles'])\n",
    "        \n",
    "        for smi in tqdm(df['canonical_smiles'], total=len(df)):\n",
    "            try:\n",
    "                mol = Chem.MolFromSmiles(smi)\n",
    "                if mol:\n",
    "                    fps.append(mfpgen.GetFingerprint(mol))\n",
    "                    smiles.append(smi)\n",
    "            except:\n",
    "                continue\n",
    "    \n",
    "    with open(FP_CACHE, 'wb') as f:\n",
    "        pickle.dump({'smiles': smiles, 'fps': fps}, f)\n",
    "    \n",
    "    print(f\"Сохранено {len(fps)} фингерпринтов в {FP_CACHE}\")\n",
    "process_and_save()"
   ]
  },
  {
   "cell_type": "code",
   "execution_count": null,
   "id": "bf520872-5a4e-4b70-8cd6-97d4e19bea78",
   "metadata": {},
   "outputs": [],
   "source": []
  }
 ],
 "metadata": {
  "kernelspec": {
   "display_name": "Python 3 (ipykernel)",
   "language": "python",
   "name": "python3"
  },
  "language_info": {
   "codemirror_mode": {
    "name": "ipython",
    "version": 3
   },
   "file_extension": ".py",
   "mimetype": "text/x-python",
   "name": "python",
   "nbconvert_exporter": "python",
   "pygments_lexer": "ipython3",
   "version": "3.12.4"
  }
 },
 "nbformat": 4,
 "nbformat_minor": 5
}
